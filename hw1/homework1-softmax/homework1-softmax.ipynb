{
 "cells": [
  {
   "cell_type": "markdown",
   "metadata": {},
   "source": [
    "# Homework-1: Softmax for MNIST Classification\n",
    "\n",
    "### In this homework, you need to\n",
    "- ### implement and apply a softmax classifier to perform digits classification."
   ]
  },
  {
   "cell_type": "code",
   "execution_count": 1,
   "metadata": {},
   "outputs": [],
   "source": [
    "import os,sys\n",
    "import numpy as np\n",
    "import matplotlib.pyplot as plt\n",
    "%matplotlib inline"
   ]
  },
  {
   "cell_type": "markdown",
   "metadata": {},
   "source": [
    "## Load MNIST Dataset\n",
    "The **mnist_data_loader.py** is a script to load mnist dataset, which is included in [TensorFlow tutorial](https://github.com/tensorflow/tensorflow/blob/r0.7/tensorflow/examples/tutorials/mnist/input_data.py)."
   ]
  },
  {
   "cell_type": "code",
   "execution_count": 2,
   "metadata": {},
   "outputs": [
    {
     "name": "stderr",
     "output_type": "stream",
     "text": [
      "C:\\Users\\chou\\AppData\\Roaming\\Python\\Python35\\site-packages\\tensorflow\\python\\framework\\dtypes.py:526: FutureWarning: Passing (type, 1) or '1type' as a synonym of type is deprecated; in a future version of numpy, it will be understood as (type, (1,)) / '(1,)type'.\n",
      "  _np_qint8 = np.dtype([(\"qint8\", np.int8, 1)])\n",
      "C:\\Users\\chou\\AppData\\Roaming\\Python\\Python35\\site-packages\\tensorflow\\python\\framework\\dtypes.py:527: FutureWarning: Passing (type, 1) or '1type' as a synonym of type is deprecated; in a future version of numpy, it will be understood as (type, (1,)) / '(1,)type'.\n",
      "  _np_quint8 = np.dtype([(\"quint8\", np.uint8, 1)])\n",
      "C:\\Users\\chou\\AppData\\Roaming\\Python\\Python35\\site-packages\\tensorflow\\python\\framework\\dtypes.py:528: FutureWarning: Passing (type, 1) or '1type' as a synonym of type is deprecated; in a future version of numpy, it will be understood as (type, (1,)) / '(1,)type'.\n",
      "  _np_qint16 = np.dtype([(\"qint16\", np.int16, 1)])\n",
      "C:\\Users\\chou\\AppData\\Roaming\\Python\\Python35\\site-packages\\tensorflow\\python\\framework\\dtypes.py:529: FutureWarning: Passing (type, 1) or '1type' as a synonym of type is deprecated; in a future version of numpy, it will be understood as (type, (1,)) / '(1,)type'.\n",
      "  _np_quint16 = np.dtype([(\"quint16\", np.uint16, 1)])\n",
      "C:\\Users\\chou\\AppData\\Roaming\\Python\\Python35\\site-packages\\tensorflow\\python\\framework\\dtypes.py:530: FutureWarning: Passing (type, 1) or '1type' as a synonym of type is deprecated; in a future version of numpy, it will be understood as (type, (1,)) / '(1,)type'.\n",
      "  _np_qint32 = np.dtype([(\"qint32\", np.int32, 1)])\n",
      "C:\\Users\\chou\\AppData\\Roaming\\Python\\Python35\\site-packages\\tensorflow\\python\\framework\\dtypes.py:535: FutureWarning: Passing (type, 1) or '1type' as a synonym of type is deprecated; in a future version of numpy, it will be understood as (type, (1,)) / '(1,)type'.\n",
      "  np_resource = np.dtype([(\"resource\", np.ubyte, 1)])\n"
     ]
    },
    {
     "name": "stdout",
     "output_type": "stream",
     "text": [
      "Extracting ./MNIST_data/train-images-idx3-ubyte.gz\n",
      "Extracting ./MNIST_data/train-labels-idx1-ubyte.gz\n",
      "Extracting ./MNIST_data/t10k-images-idx3-ubyte.gz\n",
      "Extracting ./MNIST_data/t10k-labels-idx1-ubyte.gz\n",
      "\n",
      "Training dataset size:  60000\n",
      "Test dataset size:  10000\n"
     ]
    }
   ],
   "source": [
    "import mnist_data_loader\n",
    "\n",
    "mnist_dataset = mnist_data_loader.read_data_sets(\"./MNIST_data/\", one_hot=True)\n",
    "\n",
    "# training dataset\n",
    "train_set = mnist_dataset.train \n",
    "# test dataset\n",
    "test_set = mnist_dataset.test   \n",
    "\n",
    "train_size = train_set.num_examples\n",
    "test_size = test_set.num_examples\n",
    "print()\n",
    "print('Training dataset size: ', train_size)\n",
    "print('Test dataset size: ', test_size)"
   ]
  },
  {
   "cell_type": "markdown",
   "metadata": {},
   "source": [
    "## Data Example\n",
    "To have a better understand of MNIST dataset, we can visualize some examples in MNIST."
   ]
  },
  {
   "cell_type": "code",
   "execution_count": 3,
   "metadata": {},
   "outputs": [
    {
     "name": "stdout",
     "output_type": "stream",
     "text": [
      "[0. 0. 0. 0. 0. 1. 0. 0. 0. 0.]\n"
     ]
    },
    {
     "data": {
      "text/plain": [
       "<matplotlib.image.AxesImage at 0x26f9e605da0>"
      ]
     },
     "execution_count": 3,
     "metadata": {},
     "output_type": "execute_result"
    },
    {
     "data": {
      "image/png": "[encoded data removed]",
      "text/plain": [
       "<Figure size 432x288 with 1 Axes>"
      ]
     },
     "metadata": {
      "needs_background": "light"
     },
     "output_type": "display_data"
    }
   ],
   "source": [
    "# You can choose any image in training set to visualize, example_id ∈ [0,60000)\n",
    "example_id = 0 \n",
    "\n",
    "image = train_set.images[example_id] # shape = 784 (28*28)\n",
    "label = train_set.labels[example_id] # shape = 10\n",
    "#print(image)\n",
    "print(label)\n",
    "plt.imshow(np.reshape(image,[28,28]))"
   ]
  },
  {
   "cell_type": "markdown",
   "metadata": {},
   "source": [
    "## Set Hyerparameters\n",
    "You can modify hyerparameters by yourself."
   ]
  },
  {
   "cell_type": "code",
   "execution_count": 4,
   "metadata": {},
   "outputs": [],
   "source": [
    "batch_size = 100\n",
    "max_epoch = 20\n",
    "learning_rate = 0.15\n",
    "\n",
    "# For regularization\n",
    "lamda = 0.0001"
   ]
  },
  {
   "cell_type": "markdown",
   "metadata": {},
   "source": [
    "### TODO\n",
    "Before executing the following code, you should accomplish **./softmax_classifier.py**."
   ]
  },
  {
   "cell_type": "code",
   "execution_count": 5,
   "metadata": {
    "scrolled": true
   },
   "outputs": [],
   "source": [
    "from softmax_classifier import softmax_classifier"
   ]
  },
  {
   "cell_type": "markdown",
   "metadata": {},
   "source": [
    "## Train"
   ]
  },
  {
   "cell_type": "code",
   "execution_count": 6,
   "metadata": {
    "scrolled": true
   },
   "outputs": [
    {
     "name": "stdout",
     "output_type": "stream",
     "text": [
      "Epoch [0][20]\t Batch [0][600]\t Training Loss 2.3044\t Accuracy 0.0700\n",
      "Epoch [0][20]\t Batch [100][600]\t Training Loss 0.5016\t Accuracy 0.8500\n",
      "Epoch [0][20]\t Batch [200][600]\t Training Loss 0.5879\t Accuracy 0.8100\n",
      "Epoch [0][20]\t Batch [300][600]\t Training Loss 0.4886\t Accuracy 0.8100\n",
      "Epoch [0][20]\t Batch [400][600]\t Training Loss 0.3428\t Accuracy 0.9200\n",
      "Epoch [0][20]\t Batch [500][600]\t Training Loss 0.4097\t Accuracy 0.8900\n",
      "\n",
      "Epoch [1][20]\t Batch [0][600]\t Training Loss 0.3297\t Accuracy 0.9100\n",
      "Epoch [1][20]\t Batch [100][600]\t Training Loss 0.2509\t Accuracy 0.9200\n",
      "Epoch [1][20]\t Batch [200][600]\t Training Loss 0.3068\t Accuracy 0.9600\n",
      "Epoch [1][20]\t Batch [300][600]\t Training Loss 0.2332\t Accuracy 0.9600\n",
      "Epoch [1][20]\t Batch [400][600]\t Training Loss 0.3893\t Accuracy 0.9000\n",
      "Epoch [1][20]\t Batch [500][600]\t Training Loss 0.4357\t Accuracy 0.8900\n",
      "\n",
      "Epoch [2][20]\t Batch [0][600]\t Training Loss 0.3487\t Accuracy 0.8600\n",
      "Epoch [2][20]\t Batch [100][600]\t Training Loss 0.3942\t Accuracy 0.9000\n",
      "Epoch [2][20]\t Batch [200][600]\t Training Loss 0.4790\t Accuracy 0.8700\n",
      "Epoch [2][20]\t Batch [300][600]\t Training Loss 0.2678\t Accuracy 0.8800\n",
      "Epoch [2][20]\t Batch [400][600]\t Training Loss 0.3137\t Accuracy 0.8900\n",
      "Epoch [2][20]\t Batch [500][600]\t Training Loss 0.2906\t Accuracy 0.9100\n",
      "\n",
      "Epoch [3][20]\t Batch [0][600]\t Training Loss 0.4157\t Accuracy 0.8800\n",
      "Epoch [3][20]\t Batch [100][600]\t Training Loss 0.3944\t Accuracy 0.9100\n",
      "Epoch [3][20]\t Batch [200][600]\t Training Loss 0.2025\t Accuracy 0.9600\n",
      "Epoch [3][20]\t Batch [300][600]\t Training Loss 0.2747\t Accuracy 0.9000\n",
      "Epoch [3][20]\t Batch [400][600]\t Training Loss 0.2154\t Accuracy 0.9400\n",
      "Epoch [3][20]\t Batch [500][600]\t Training Loss 0.2735\t Accuracy 0.9200\n",
      "\n",
      "Epoch [4][20]\t Batch [0][600]\t Training Loss 0.3122\t Accuracy 0.9300\n",
      "Epoch [4][20]\t Batch [100][600]\t Training Loss 0.2574\t Accuracy 0.9100\n",
      "Epoch [4][20]\t Batch [200][600]\t Training Loss 0.3817\t Accuracy 0.9300\n",
      "Epoch [4][20]\t Batch [300][600]\t Training Loss 0.3515\t Accuracy 0.8800\n",
      "Epoch [4][20]\t Batch [400][600]\t Training Loss 0.2181\t Accuracy 0.9300\n",
      "Epoch [4][20]\t Batch [500][600]\t Training Loss 0.3636\t Accuracy 0.8800\n",
      "\n",
      "Epoch [5][20]\t Batch [0][600]\t Training Loss 0.2869\t Accuracy 0.9200\n",
      "Epoch [5][20]\t Batch [100][600]\t Training Loss 0.4239\t Accuracy 0.8800\n",
      "Epoch [5][20]\t Batch [200][600]\t Training Loss 0.2116\t Accuracy 0.9600\n",
      "Epoch [5][20]\t Batch [300][600]\t Training Loss 0.3556\t Accuracy 0.9100\n",
      "Epoch [5][20]\t Batch [400][600]\t Training Loss 0.2980\t Accuracy 0.9200\n",
      "Epoch [5][20]\t Batch [500][600]\t Training Loss 0.2939\t Accuracy 0.9500\n",
      "\n",
      "Epoch [6][20]\t Batch [0][600]\t Training Loss 0.4086\t Accuracy 0.8900\n",
      "Epoch [6][20]\t Batch [100][600]\t Training Loss 0.4595\t Accuracy 0.8600\n",
      "Epoch [6][20]\t Batch [200][600]\t Training Loss 0.5814\t Accuracy 0.9000\n",
      "Epoch [6][20]\t Batch [300][600]\t Training Loss 0.2802\t Accuracy 0.9300\n",
      "Epoch [6][20]\t Batch [400][600]\t Training Loss 0.2231\t Accuracy 0.9200\n",
      "Epoch [6][20]\t Batch [500][600]\t Training Loss 0.1592\t Accuracy 0.9700\n",
      "\n",
      "Epoch [7][20]\t Batch [0][600]\t Training Loss 0.2727\t Accuracy 0.9100\n",
      "Epoch [7][20]\t Batch [100][600]\t Training Loss 0.2451\t Accuracy 0.9200\n",
      "Epoch [7][20]\t Batch [200][600]\t Training Loss 0.1795\t Accuracy 0.9700\n",
      "Epoch [7][20]\t Batch [300][600]\t Training Loss 0.4032\t Accuracy 0.9100\n",
      "Epoch [7][20]\t Batch [400][600]\t Training Loss 0.3257\t Accuracy 0.9200\n",
      "Epoch [7][20]\t Batch [500][600]\t Training Loss 0.1507\t Accuracy 0.9600\n",
      "\n",
      "Epoch [8][20]\t Batch [0][600]\t Training Loss 0.2655\t Accuracy 0.9100\n",
      "Epoch [8][20]\t Batch [100][600]\t Training Loss 0.2078\t Accuracy 0.9400\n",
      "Epoch [8][20]\t Batch [200][600]\t Training Loss 0.2706\t Accuracy 0.9100\n",
      "Epoch [8][20]\t Batch [300][600]\t Training Loss 0.2784\t Accuracy 0.9100\n",
      "Epoch [8][20]\t Batch [400][600]\t Training Loss 0.2298\t Accuracy 0.9400\n",
      "Epoch [8][20]\t Batch [500][600]\t Training Loss 0.2889\t Accuracy 0.9300\n",
      "\n",
      "Epoch [9][20]\t Batch [0][600]\t Training Loss 0.2531\t Accuracy 0.9100\n",
      "Epoch [9][20]\t Batch [100][600]\t Training Loss 0.2729\t Accuracy 0.9200\n",
      "Epoch [9][20]\t Batch [200][600]\t Training Loss 0.3237\t Accuracy 0.9300\n",
      "Epoch [9][20]\t Batch [300][600]\t Training Loss 0.4410\t Accuracy 0.8900\n",
      "Epoch [9][20]\t Batch [400][600]\t Training Loss 0.2182\t Accuracy 0.9400\n",
      "Epoch [9][20]\t Batch [500][600]\t Training Loss 0.1793\t Accuracy 0.9500\n",
      "\n",
      "Epoch [10][20]\t Batch [0][600]\t Training Loss 0.4451\t Accuracy 0.9000\n",
      "Epoch [10][20]\t Batch [100][600]\t Training Loss 0.2327\t Accuracy 0.9200\n",
      "Epoch [10][20]\t Batch [200][600]\t Training Loss 0.2190\t Accuracy 0.9700\n",
      "Epoch [10][20]\t Batch [300][600]\t Training Loss 0.3221\t Accuracy 0.9100\n",
      "Epoch [10][20]\t Batch [400][600]\t Training Loss 0.3098\t Accuracy 0.9300\n",
      "Epoch [10][20]\t Batch [500][600]\t Training Loss 0.1973\t Accuracy 0.9600\n",
      "\n",
      "Epoch [11][20]\t Batch [0][600]\t Training Loss 0.2838\t Accuracy 0.9400\n",
      "Epoch [11][20]\t Batch [100][600]\t Training Loss 0.2464\t Accuracy 0.9400\n",
      "Epoch [11][20]\t Batch [200][600]\t Training Loss 0.2225\t Accuracy 0.9500\n",
      "Epoch [11][20]\t Batch [300][600]\t Training Loss 0.4830\t Accuracy 0.8500\n",
      "Epoch [11][20]\t Batch [400][600]\t Training Loss 0.1567\t Accuracy 0.9400\n",
      "Epoch [11][20]\t Batch [500][600]\t Training Loss 0.3200\t Accuracy 0.9300\n",
      "\n",
      "Epoch [12][20]\t Batch [0][600]\t Training Loss 0.1919\t Accuracy 0.9600\n",
      "Epoch [12][20]\t Batch [100][600]\t Training Loss 0.2775\t Accuracy 0.9000\n",
      "Epoch [12][20]\t Batch [200][600]\t Training Loss 0.2083\t Accuracy 0.9500\n",
      "Epoch [12][20]\t Batch [300][600]\t Training Loss 0.2032\t Accuracy 0.9600\n",
      "Epoch [12][20]\t Batch [400][600]\t Training Loss 0.3485\t Accuracy 0.9200\n",
      "Epoch [12][20]\t Batch [500][600]\t Training Loss 0.3120\t Accuracy 0.9200\n",
      "\n",
      "Epoch [13][20]\t Batch [0][600]\t Training Loss 0.3310\t Accuracy 0.9400\n",
      "Epoch [13][20]\t Batch [100][600]\t Training Loss 0.3047\t Accuracy 0.9200\n",
      "Epoch [13][20]\t Batch [200][600]\t Training Loss 0.2775\t Accuracy 0.9100\n",
      "Epoch [13][20]\t Batch [300][600]\t Training Loss 0.2628\t Accuracy 0.9300\n",
      "Epoch [13][20]\t Batch [400][600]\t Training Loss 0.5166\t Accuracy 0.8500\n",
      "Epoch [13][20]\t Batch [500][600]\t Training Loss 0.2542\t Accuracy 0.9200\n",
      "\n",
      "Epoch [14][20]\t Batch [0][600]\t Training Loss 0.1678\t Accuracy 0.9600\n",
      "Epoch [14][20]\t Batch [100][600]\t Training Loss 0.1667\t Accuracy 0.9700\n",
      "Epoch [14][20]\t Batch [200][600]\t Training Loss 0.3215\t Accuracy 0.9200\n",
      "Epoch [14][20]\t Batch [300][600]\t Training Loss 0.2200\t Accuracy 0.9500\n",
      "Epoch [14][20]\t Batch [400][600]\t Training Loss 0.3275\t Accuracy 0.9200\n",
      "Epoch [14][20]\t Batch [500][600]\t Training Loss 0.2806\t Accuracy 0.9500\n",
      "\n",
      "Epoch [15][20]\t Batch [0][600]\t Training Loss 0.2167\t Accuracy 0.9300\n",
      "Epoch [15][20]\t Batch [100][600]\t Training Loss 0.2492\t Accuracy 0.9100\n",
      "Epoch [15][20]\t Batch [200][600]\t Training Loss 0.2314\t Accuracy 0.9400\n",
      "Epoch [15][20]\t Batch [300][600]\t Training Loss 0.2438\t Accuracy 0.9300\n",
      "Epoch [15][20]\t Batch [400][600]\t Training Loss 0.2530\t Accuracy 0.9300\n",
      "Epoch [15][20]\t Batch [500][600]\t Training Loss 0.3607\t Accuracy 0.8900\n",
      "\n",
      "Epoch [16][20]\t Batch [0][600]\t Training Loss 0.2407\t Accuracy 0.9300\n",
      "Epoch [16][20]\t Batch [100][600]\t Training Loss 0.1235\t Accuracy 0.9800\n",
      "Epoch [16][20]\t Batch [200][600]\t Training Loss 0.2445\t Accuracy 0.9400\n",
      "Epoch [16][20]\t Batch [300][600]\t Training Loss 0.2619\t Accuracy 0.9300\n",
      "Epoch [16][20]\t Batch [400][600]\t Training Loss 0.4297\t Accuracy 0.8600\n",
      "Epoch [16][20]\t Batch [500][600]\t Training Loss 0.3441\t Accuracy 0.9300\n",
      "\n",
      "Epoch [17][20]\t Batch [0][600]\t Training Loss 0.2109\t Accuracy 0.9300\n",
      "Epoch [17][20]\t Batch [100][600]\t Training Loss 0.2267\t Accuracy 0.9400\n",
      "Epoch [17][20]\t Batch [200][600]\t Training Loss 0.3401\t Accuracy 0.9100\n",
      "Epoch [17][20]\t Batch [300][600]\t Training Loss 0.2638\t Accuracy 0.9400\n",
      "Epoch [17][20]\t Batch [400][600]\t Training Loss 0.3441\t Accuracy 0.9000\n",
      "Epoch [17][20]\t Batch [500][600]\t Training Loss 0.2035\t Accuracy 0.9300\n",
      "\n",
      "Epoch [18][20]\t Batch [0][600]\t Training Loss 0.2830\t Accuracy 0.9300\n",
      "Epoch [18][20]\t Batch [100][600]\t Training Loss 0.2589\t Accuracy 0.9500\n",
      "Epoch [18][20]\t Batch [200][600]\t Training Loss 0.3558\t Accuracy 0.9000\n",
      "Epoch [18][20]\t Batch [300][600]\t Training Loss 0.1698\t Accuracy 0.9500\n",
      "Epoch [18][20]\t Batch [400][600]\t Training Loss 0.3541\t Accuracy 0.8900\n",
      "Epoch [18][20]\t Batch [500][600]\t Training Loss 0.2977\t Accuracy 0.9500\n",
      "\n",
      "Epoch [19][20]\t Batch [0][600]\t Training Loss 0.2833\t Accuracy 0.9300\n",
      "Epoch [19][20]\t Batch [100][600]\t Training Loss 0.4042\t Accuracy 0.8800\n"
     ]
    },
    {
     "name": "stdout",
     "output_type": "stream",
     "text": [
      "Epoch [19][20]\t Batch [200][600]\t Training Loss 0.2296\t Accuracy 0.9400\n",
      "Epoch [19][20]\t Batch [300][600]\t Training Loss 0.2389\t Accuracy 0.9100\n",
      "Epoch [19][20]\t Batch [400][600]\t Training Loss 0.4615\t Accuracy 0.9000\n",
      "Epoch [19][20]\t Batch [500][600]\t Training Loss 0.2160\t Accuracy 0.9400\n",
      "\n"
     ]
    }
   ],
   "source": [
    "# Weight Initialization\n",
    "W = np.random.randn(28*28, 10) * 0.001\n",
    "\n",
    "loss_set = []\n",
    "accu_set = []\n",
    "disp_freq = 100\n",
    "\n",
    "# Training process\n",
    "for epoch in range(0, max_epoch):\n",
    "    iter_per_batch = train_size // batch_size\n",
    "    for batch_id in range(0, iter_per_batch):\n",
    "        batch = train_set.next_batch(batch_size) # get data of next batch\n",
    "        input, label = batch\n",
    "        \n",
    "        # softmax_classifier\n",
    "        loss, gradient, prediction = softmax_classifier(W, input , label, lamda)\n",
    "        \n",
    "        # Calculate accuracy\n",
    "        label = np.argmax(label, axis=1) # scalar representation\n",
    "        accuracy = sum(prediction == label) / float(len(label))\n",
    "        \n",
    "        loss_set.append(loss)\n",
    "        accu_set.append(accuracy)\n",
    "        \n",
    "        # Update weights\n",
    "        W = W - (learning_rate * gradient)\n",
    "        if batch_id % disp_freq == 0:\n",
    "            print(\"Epoch [{}][{}]\\t Batch [{}][{}]\\t Training Loss {:.4f}\\t Accuracy {:.4f}\".format(\n",
    "                epoch, max_epoch, batch_id, iter_per_batch, \n",
    "                loss, accuracy))\n",
    "    print()"
   ]
  },
  {
   "cell_type": "markdown",
   "metadata": {},
   "source": [
    "## Test"
   ]
  },
  {
   "cell_type": "code",
   "execution_count": 7,
   "metadata": {
    "scrolled": true
   },
   "outputs": [
    {
     "name": "stdout",
     "output_type": "stream",
     "text": [
      "Test Accuracy:  0.9213\n"
     ]
    }
   ],
   "source": [
    "correct = 0\n",
    "iter_per_batch = test_size // batch_size\n",
    "\n",
    "# Test process\n",
    "for batch_id in range(0, iter_per_batch):\n",
    "    batch = test_set.next_batch(batch_size)\n",
    "    data, label = batch\n",
    "    \n",
    "    # We only need prediction results in testing\n",
    "    _,_, prediction = softmax_classifier(W, data , label, lamda)\n",
    "    label = np.argmax(label, axis=1)\n",
    "    \n",
    "    correct += sum(prediction == label)\n",
    "    \n",
    "accuracy = correct * 1.0 / test_size\n",
    "print('Test Accuracy: ', accuracy)"
   ]
  },
  {
   "cell_type": "markdown",
   "metadata": {},
   "source": [
    "## Plot"
   ]
  },
  {
   "cell_type": "code",
   "execution_count": 8,
   "metadata": {
    "scrolled": true
   },
   "outputs": [
    {
     "data": {
      "image/png": "[encoded data removed]",
      "text/plain": [
       "<Figure size 432x288 with 1 Axes>"
      ]
     },
     "metadata": {
      "needs_background": "light"
     },
     "output_type": "display_data"
    },
    {
     "data": {
      "image/png": "[encoded data removed]",
      "text/plain": [
       "<Figure size 432x288 with 1 Axes>"
      ]
     },
     "metadata": {
      "needs_background": "light"
     },
     "output_type": "display_data"
    }
   ],
   "source": [
    "# training loss curve\n",
    "plt.figure()\n",
    "plt.plot(loss_set, 'b--')\n",
    "plt.xlabel('iteration')\n",
    "plt.ylabel('loss')\n",
    "# training accuracy curve\n",
    "plt.figure()\n",
    "plt.plot(accu_set, 'r--')\n",
    "plt.xlabel('iteration')\n",
    "plt.ylabel('accuracy');"
   ]
  },
  {
   "cell_type": "markdown",
   "metadata": {},
   "source": [
    "### You have finished homework1-softmax, congratulations!"
   ]
  }
 ],
 "metadata": {
  "kernelspec": {
   "display_name": "Python 3",
   "language": "python",
   "name": "python3"
  },
  "language_info": {
   "codemirror_mode": {
    "name": "ipython",
    "version": 3
   },
   "file_extension": ".py",
   "mimetype": "text/x-python",
   "name": "python",
   "nbconvert_exporter": "python",
   "pygments_lexer": "ipython3",
   "version": "3.5.6"
  }
 },
 "nbformat": 4,
 "nbformat_minor": 2
}
